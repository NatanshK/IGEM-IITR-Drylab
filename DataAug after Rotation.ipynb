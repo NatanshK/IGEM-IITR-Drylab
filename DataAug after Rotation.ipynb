{
 "cells": [
  {
   "cell_type": "markdown",
   "metadata": {},
   "source": [
    "# Data Augmentation after applying Rotation"
   ]
  },
  {
   "cell_type": "code",
   "execution_count": null,
   "metadata": {},
   "outputs": [],
   "source": [
    "import os\n",
    "import cv2\n",
    "import numpy as np\n",
    "from tqdm import tqdm\n",
    "import albumentations as A\n",
    "\n",
    "\n",
    "input_dir = ''\n",
    "output_dir = ''\n",
    "\n",
    "\n",
    "os.makedirs(output_dir, exist_ok=True)\n",
    "\n",
    "# Augmentation pipeline (excluding rotation)\n",
    "augmentations = A.Compose([\n",
    "    A.HorizontalFlip(p=0.5),\n",
    "    A.VerticalFlip(p=0.5),\n",
    "    A.RandomResizedCrop(height=256, width=256, scale=(0.5, 1.0), p=0.5),\n",
    "    A.Transpose(p=0.5),\n",
    "    A.GaussNoise(var_limit=(10.0, 50.0), p=0.3),\n",
    "    A.MotionBlur(blur_limit=3, p=0.2),\n",
    "    A.GaussianBlur(blur_limit=3, p=0.2),\n",
    "    A.Sharpen(p=0.2),\n",
    "    A.RandomBrightnessContrast(p=0.3),\n",
    "    A.ElasticTransform(p=0.3),\n",
    "    A.RandomScale(scale_limit=0.1, p=0.3)\n",
    "])\n",
    "\n",
    "\n",
    "for img_name in tqdm(os.listdir(input_dir)):\n",
    "    if img_name.endswith(('.png', '.jpg', '.jpeg')):\n",
    "        img_path = os.path.join(input_dir, img_name)\n",
    "        image = cv2.imread(img_path)\n",
    "        \n",
    "        h, w, _ = image.shape\n",
    "        if h >= 256 and w >= 256:\n",
    "            augmented = augmentations(image=image)\n",
    "            augmented_image = augmented['image']\n",
    "            \n",
    "            save_path = os.path.join(output_dir, f\"aug_{img_name}\")\n",
    "            cv2.imwrite(save_path, augmented_image)\n",
    "        else:\n",
    "            print(f\"Skipping {img_name}: image size {h}x{w} is smaller than crop size.\")\n",
    "\n",
    "print(\"Augmentation and saving completed.\")\n"
   ]
  }
 ],
 "metadata": {
  "kernelspec": {
   "display_name": "newenv",
   "language": "python",
   "name": "python3"
  },
  "language_info": {
   "codemirror_mode": {
    "name": "ipython",
    "version": 3
   },
   "file_extension": ".py",
   "mimetype": "text/x-python",
   "name": "python",
   "nbconvert_exporter": "python",
   "pygments_lexer": "ipython3",
   "version": "3.12.4"
  }
 },
 "nbformat": 4,
 "nbformat_minor": 2
}
