{
  "cells": [
    {
      "cell_type": "code",
      "execution_count": null,
      "metadata": {
        "colab": {
          "base_uri": "https://localhost:8080/"
        },
        "id": "iEfQa8LDTuPk",
        "outputId": "26cfbab1-b0bf-4a39-99e2-87a01157e67b"
      },
      "outputs": [],
      "source": [
        "import cv2\n",
        "import numpy as np\n",
        "import os\n",
        "from multiprocessing import Pool, cpu_count\n",
        "\n",
        "def find_bounding_box(image, threshold=10):\n",
        "    height, width, _ = image.shape\n",
        "\n",
        "    gray_image = cv2.cvtColor(image, cv2.COLOR_BGR2GRAY)\n",
        "\n",
        "    \n",
        "    _, binary_image = cv2.threshold(gray_image, threshold, 255, cv2.THRESH_BINARY)\n",
        "\n",
        "    rows = np.any(binary_image, axis=1)\n",
        "    cols = np.any(binary_image, axis=0)\n",
        "\n",
        "    if np.any(rows) and np.any(cols):\n",
        "        min_y = np.argmax(rows)\n",
        "        max_y = len(rows) - 1 - np.argmax(rows[::-1])\n",
        "        min_x = np.argmax(cols)\n",
        "        max_x = len(cols) - 1 - np.argmax(cols[::-1])\n",
        "\n",
        "        cropped_image = image[min_y:max_y+1, min_x:max_x+1]\n",
        "    else:\n",
        "        cropped_image = image\n",
        "\n",
        "    return cropped_image\n",
        "\n",
        "def process_image(filename, input_folder, output_folder):\n",
        "    try:\n",
        "        image_path = os.path.join(input_folder, filename)\n",
        "        image = cv2.imread(image_path, cv2.IMREAD_COLOR)\n",
        "\n",
        "        if image is None:\n",
        "            print(f\"Image {filename} could not be read.\")\n",
        "            return\n",
        "\n",
        "        cropped_image = find_bounding_box(image)\n",
        "\n",
        "        output_path = os.path.join(output_folder, filename)\n",
        "        cv2.imwrite(output_path, cropped_image)\n",
        "        print(f\"Cropped image saved to {output_path}\")\n",
        "\n",
        "    except Exception as e:\n",
        "        print(f\"Error processing {filename}: {e}\")\n",
        "\n",
        "def process_images_in_folder(input_folder, output_folder):\n",
        "    if not os.path.exists(output_folder):\n",
        "        os.makedirs(output_folder)\n",
        "\n",
        "    image_files = [f for f in os.listdir(input_folder) if f.lower().endswith(('.png', '.jpg', '.jpeg'))]\n",
        "\n",
        "    with Pool(cpu_count()) as pool:\n",
        "        pool.starmap(process_image, [(filename, input_folder, output_folder) for filename in image_files])\n",
        "\n",
        "input_folder = '/content/IGEM-IITR-Drylab/DATASET/REDDOTOA'\n",
        "output_folder = '/content/DATASET_NEW/red-dot'\n",
        "process_images_in_folder(input_folder, output_folder)"
      ]
    }
  ],
  "metadata": {
    "accelerator": "GPU",
    "colab": {
      "gpuType": "T4",
      "provenance": []
    },
    "kernelspec": {
      "display_name": "Python 3",
      "name": "python3"
    },
    "language_info": {
      "name": "python"
    }
  },
  "nbformat": 4,
  "nbformat_minor": 0
}
